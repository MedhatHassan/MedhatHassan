{
  "nbformat": 4,
  "nbformat_minor": 0,
  "metadata": {
    "colab": {
      "provenance": [],
      "authorship_tag": "ABX9TyOhQiOdIFxZ/8tcqMLyUeGG",
      "include_colab_link": true
    },
    "kernelspec": {
      "name": "python3",
      "display_name": "Python 3"
    },
    "language_info": {
      "name": "python"
    }
  },
  "cells": [
    {
      "cell_type": "markdown",
      "metadata": {
        "id": "view-in-github",
        "colab_type": "text"
      },
      "source": [
        "<a href=\"https://colab.research.google.com/github/MedhatHassan/MedhatHassan/blob/main/MD5_LSTM.ipynb\" target=\"_parent\"><img src=\"https://colab.research.google.com/assets/colab-badge.svg\" alt=\"Open In Colab\"/></a>"
      ]
    },
    {
      "cell_type": "code",
      "execution_count": 1,
      "metadata": {
        "id": "DoYnbMTGVvUI"
      },
      "outputs": [],
      "source": [
        "import string\n",
        "import re\n",
        "from numpy import array, argmax, random, take\n",
        "import pandas as pd\n",
        "from keras.models import Sequential\n",
        "from keras.layers import Dense, LSTM, Embedding, RepeatVector\n",
        "from keras.preprocessing.text import Tokenizer\n",
        "from keras.callbacks import ModelCheckpoint\n",
        "# from keras.preprocessing.sequence import pad_sequences\n",
        "from keras.models import load_model\n",
        "from keras import optimizers\n",
        "import matplotlib.pyplot as plt\n",
        "from tensorflow.keras.preprocessing.text import Tokenizer\n",
        "from tensorflow.keras.preprocessing.sequence import pad_sequences\n",
        "%matplotlib inline\n",
        "pd.set_option('display.max_colwidth', 200)"
      ]
    },
    {
      "cell_type": "code",
      "source": [
        "dataset = pd.read_csv('/content/md5_data.csv')"
      ],
      "metadata": {
        "id": "y0uLHgKvWPbY"
      },
      "execution_count": 3,
      "outputs": []
    },
    {
      "cell_type": "code",
      "source": [
        "dataset = array(dataset)"
      ],
      "metadata": {
        "id": "4UzR9Vi3WZtp"
      },
      "execution_count": 4,
      "outputs": []
    },
    {
      "cell_type": "code",
      "source": [
        "for i in range(len(dataset)):\n",
        "    dataset[i,0] = dataset[i,0].lower()\n",
        "    dataset[i,1] = dataset[i,1].lower()"
      ],
      "metadata": {
        "id": "7Qoz2EW5Wk-A"
      },
      "execution_count": 5,
      "outputs": []
    },
    {
      "cell_type": "code",
      "source": [
        "plain_text = []\n",
        "md5_text = []\n",
        "\n",
        "# populate the lists with sentence lengths\n",
        "for i in dataset[:,0]:\n",
        "      plain_text.append(len(i.split()))\n",
        "\n",
        "for i in dataset[:,1]:\n",
        "      md5_text.append(len(i.split()))\n",
        "\n",
        "length_df = pd.DataFrame({'plain_text':plain_text, 'md5_text':md5_text})\n",
        "\n",
        "length_df.hist(bins = 30)\n",
        "plt.show()"
      ],
      "metadata": {
        "colab": {
          "base_uri": "https://localhost:8080/",
          "height": 452
        },
        "id": "WacB0FuzXXOD",
        "outputId": "39f98282-3b0d-4ece-96b6-29aa2237d7d9"
      },
      "execution_count": 6,
      "outputs": [
        {
          "output_type": "display_data",
          "data": {
            "text/plain": [
              "<Figure size 640x480 with 2 Axes>"
            ],
            "image/png": "[encoded data removed]"
          },
          "metadata": {}
        }
      ]
    },
    {
      "cell_type": "code",
      "source": [
        "def tokenization(lines):\n",
        "    tokenizer = Tokenizer()\n",
        "    tokenizer.fit_on_texts(lines)\n",
        "    return tokenizer"
      ],
      "metadata": {
        "id": "1NeyhvG2YYdd"
      },
      "execution_count": 7,
      "outputs": []
    },
    {
      "cell_type": "code",
      "source": [
        "plain_text_tokenizer = tokenization(dataset[:, 0])\n",
        "plain_text_size = len(plain_text_tokenizer.word_index) + 1\n",
        "\n",
        "plain_text_length = 1\n",
        "print('plain text Size: %d' % plain_text_size)"
      ],
      "metadata": {
        "colab": {
          "base_uri": "https://localhost:8080/"
        },
        "id": "UR6ExGIJYZ1N",
        "outputId": "46d9c21d-752a-410d-d3dc-853f2c084d70"
      },
      "execution_count": 8,
      "outputs": [
        {
          "output_type": "stream",
          "name": "stdout",
          "text": [
            "plain text Size: 10000\n"
          ]
        }
      ]
    },
    {
      "cell_type": "code",
      "source": [
        "md5_text_tokenizer = tokenization(dataset[:, 1])\n",
        "md5_text_size = len(md5_text_tokenizer.word_index) + 1\n",
        "\n",
        "md5_text_length = 1\n",
        "print('md5 text Size: %d' % md5_text_size)"
      ],
      "metadata": {
        "colab": {
          "base_uri": "https://localhost:8080/"
        },
        "id": "LFixffT_Yv2N",
        "outputId": "5df7343c-fd24-4013-cd15-92758c2dba28"
      },
      "execution_count": 9,
      "outputs": [
        {
          "output_type": "stream",
          "name": "stdout",
          "text": [
            "md5 text Size: 10000\n"
          ]
        }
      ]
    },
    {
      "cell_type": "code",
      "source": [
        "def encode_sequences(tokenizer, length, lines):\n",
        "    seq = tokenizer.texts_to_sequences(lines)\n",
        "    # pad sequences with 0 values\n",
        "    seq = pad_sequences(seq, maxlen=length, padding='post')\n",
        "    return seq"
      ],
      "metadata": {
        "id": "-0ouS4oXZITE"
      },
      "execution_count": 10,
      "outputs": []
    },
    {
      "cell_type": "code",
      "source": [
        "from sklearn.model_selection import train_test_split\n",
        "\n",
        "# split data into train and test set\n",
        "train, test = train_test_split(dataset, test_size=0.2, random_state = 12)"
      ],
      "metadata": {
        "id": "0_4H8b_iZPvf"
      },
      "execution_count": 11,
      "outputs": []
    },
    {
      "cell_type": "code",
      "source": [
        "trainX = encode_sequences(md5_text_tokenizer, md5_text_length, train[:, 1])\n",
        "trainY = encode_sequences(plain_text_tokenizer, plain_text_length, train[:, 0])\n",
        "\n",
        "testX = encode_sequences(md5_text_tokenizer, md5_text_length, test[:, 1])\n",
        "testY = encode_sequences(plain_text_tokenizer, plain_text_length, test[:, 0])"
      ],
      "metadata": {
        "id": "Oz8n_eghZYaL"
      },
      "execution_count": 12,
      "outputs": []
    },
    {
      "cell_type": "code",
      "source": [
        "def define_model(in_vocab,out_vocab, in_timesteps,out_timesteps,units):\n",
        "    model = Sequential()\n",
        "    model.add(Embedding(in_vocab, units, input_length=in_timesteps, mask_zero=True))\n",
        "    model.add(LSTM(units))\n",
        "    model.add(RepeatVector(out_timesteps))\n",
        "    model.add(LSTM(units, return_sequences=True))\n",
        "    model.add(Dense(out_vocab, activation='softmax'))\n",
        "    return model"
      ],
      "metadata": {
        "id": "OyFbLbQSayG-"
      },
      "execution_count": 13,
      "outputs": []
    },
    {
      "cell_type": "code",
      "source": [
        "model = define_model(md5_text_size, plain_text_size, md5_text_length, plain_text_length, 128)"
      ],
      "metadata": {
        "id": "9bPkSJMya2dk"
      },
      "execution_count": 14,
      "outputs": []
    },
    {
      "cell_type": "code",
      "source": [
        "rms = optimizers.RMSprop(lr=0.001)\n",
        "model.compile(optimizer=rms, loss='sparse_categorical_crossentropy')"
      ],
      "metadata": {
        "colab": {
          "base_uri": "https://localhost:8080/"
        },
        "id": "CWuXEnxRbKIm",
        "outputId": "9dfbda23-9aa0-4f59-b68e-47891fa2119e"
      },
      "execution_count": 15,
      "outputs": [
        {
          "output_type": "stream",
          "name": "stderr",
          "text": [
            "/usr/local/lib/python3.10/dist-packages/keras/optimizers/legacy/rmsprop.py:143: UserWarning: The `lr` argument is deprecated, use `learning_rate` instead.\n",
            "  super().__init__(name, **kwargs)\n"
          ]
        }
      ]
    },
    {
      "cell_type": "code",
      "source": [
        "filename = 'model.h1'\n",
        "checkpoint = ModelCheckpoint(filename, monitor='val_loss', verbose=1, save_best_only=True, mode='min')\n",
        "history = model.fit(trainX, trainY.reshape(trainY.shape[0], trainY.shape[1], 1),\n",
        "                    epochs=30, batch_size=512, validation_split = 0.2,callbacks=[checkpoint], \n",
        "                    verbose=1)"
      ],
      "metadata": {
        "colab": {
          "base_uri": "https://localhost:8080/"
        },
        "id": "VmgC1XWMbOBf",
        "outputId": "7f149237-c1aa-4ad4-b92c-b7e9568103d8"
      },
      "execution_count": 29,
      "outputs": [
        {
          "output_type": "stream",
          "name": "stdout",
          "text": [
            "Epoch 1/30\n",
            "13/13 [==============================] - ETA: 0s - loss: 9.2132\n",
            "Epoch 1: val_loss improved from inf to 9.21787, saving model to model.h1\n"
          ]
        },
        {
          "output_type": "stream",
          "name": "stderr",
          "text": [
            "WARNING:absl:Found untraced functions such as lstm_cell_layer_call_fn, lstm_cell_layer_call_and_return_conditional_losses, lstm_cell_1_layer_call_fn, lstm_cell_1_layer_call_and_return_conditional_losses while saving (showing 4 of 4). These functions will not be directly callable after loading.\n"
          ]
        },
        {
          "output_type": "stream",
          "name": "stdout",
          "text": [
            "\b\b\b\b\b\b\b\b\b\b\b\b\b\b\b\b\b\b\b\b\b\b\b\b\b\b\b\b\b\b\b\b\b\b\b\b\b\b\b\b\b\b\b\b\b\b\b\b\b\b\b\b\b\b\b\b\b\b\b\b\b\b\b\r13/13 [==============================] - 40s 3s/step - loss: 9.2132 - val_loss: 9.2179\n",
            "Epoch 2/30\n",
            "13/13 [==============================] - ETA: 0s - loss: 9.2042\n",
            "Epoch 2: val_loss did not improve from 9.21787\n",
            "13/13 [==============================] - 13s 969ms/step - loss: 9.2042 - val_loss: 9.2296\n",
            "Epoch 3/30\n",
            "13/13 [==============================] - ETA: 0s - loss: 9.1875\n",
            "Epoch 3: val_loss did not improve from 9.21787\n",
            "13/13 [==============================] - 12s 957ms/step - loss: 9.1875 - val_loss: 9.3468\n",
            "Epoch 4/30\n",
            "13/13 [==============================] - ETA: 0s - loss: 9.0932\n",
            "Epoch 4: val_loss did not improve from 9.21787\n",
            "13/13 [==============================] - 12s 934ms/step - loss: 9.0932 - val_loss: 9.7055\n",
            "Epoch 5/30\n",
            "13/13 [==============================] - ETA: 0s - loss: 8.9234\n",
            "Epoch 5: val_loss did not improve from 9.21787\n",
            "13/13 [==============================] - 12s 961ms/step - loss: 8.9234 - val_loss: 9.9487\n",
            "Epoch 6/30\n",
            "13/13 [==============================] - ETA: 0s - loss: 8.8295\n",
            "Epoch 6: val_loss did not improve from 9.21787\n",
            "13/13 [==============================] - 12s 905ms/step - loss: 8.8295 - val_loss: 10.1410\n",
            "Epoch 7/30\n",
            "13/13 [==============================] - ETA: 0s - loss: 8.7704\n",
            "Epoch 7: val_loss did not improve from 9.21787\n",
            "13/13 [==============================] - 12s 945ms/step - loss: 8.7704 - val_loss: 10.2021\n",
            "Epoch 8/30\n",
            "13/13 [==============================] - ETA: 0s - loss: 8.7291\n",
            "Epoch 8: val_loss did not improve from 9.21787\n",
            "13/13 [==============================] - 12s 915ms/step - loss: 8.7291 - val_loss: 10.3344\n",
            "Epoch 9/30\n",
            "13/13 [==============================] - ETA: 0s - loss: 8.6912\n",
            "Epoch 9: val_loss did not improve from 9.21787\n",
            "13/13 [==============================] - 13s 982ms/step - loss: 8.6912 - val_loss: 10.3925\n",
            "Epoch 10/30\n",
            "13/13 [==============================] - ETA: 0s - loss: 8.6453\n",
            "Epoch 10: val_loss did not improve from 9.21787\n",
            "13/13 [==============================] - 24s 2s/step - loss: 8.6453 - val_loss: 10.5870\n",
            "Epoch 11/30\n",
            "13/13 [==============================] - ETA: 0s - loss: 8.5775\n",
            "Epoch 11: val_loss did not improve from 9.21787\n",
            "13/13 [==============================] - 15s 1s/step - loss: 8.5775 - val_loss: 10.7433\n",
            "Epoch 12/30\n",
            "13/13 [==============================] - ETA: 0s - loss: 8.4576\n",
            "Epoch 12: val_loss did not improve from 9.21787\n",
            "13/13 [==============================] - 11s 850ms/step - loss: 8.4576 - val_loss: 11.1611\n",
            "Epoch 13/30\n",
            "13/13 [==============================] - ETA: 0s - loss: 8.2577\n",
            "Epoch 13: val_loss did not improve from 9.21787\n",
            "13/13 [==============================] - 12s 872ms/step - loss: 8.2577 - val_loss: 11.6372\n",
            "Epoch 14/30\n",
            "13/13 [==============================] - ETA: 0s - loss: 8.0220\n",
            "Epoch 14: val_loss did not improve from 9.21787\n",
            "13/13 [==============================] - 12s 940ms/step - loss: 8.0220 - val_loss: 12.0621\n",
            "Epoch 15/30\n",
            "13/13 [==============================] - ETA: 0s - loss: 7.7600\n",
            "Epoch 15: val_loss did not improve from 9.21787\n",
            "13/13 [==============================] - 12s 913ms/step - loss: 7.7600 - val_loss: 12.1696\n",
            "Epoch 16/30\n",
            "13/13 [==============================] - ETA: 0s - loss: 7.4102\n",
            "Epoch 16: val_loss did not improve from 9.21787\n",
            "13/13 [==============================] - 12s 930ms/step - loss: 7.4102 - val_loss: 12.2937\n",
            "Epoch 17/30\n",
            "13/13 [==============================] - ETA: 0s - loss: 6.9684\n",
            "Epoch 17: val_loss did not improve from 9.21787\n",
            "13/13 [==============================] - 12s 898ms/step - loss: 6.9684 - val_loss: 11.9650\n",
            "Epoch 18/30\n",
            "13/13 [==============================] - ETA: 0s - loss: 6.4808\n",
            "Epoch 18: val_loss did not improve from 9.21787\n",
            "13/13 [==============================] - 12s 965ms/step - loss: 6.4808 - val_loss: 11.5853\n",
            "Epoch 19/30\n",
            "13/13 [==============================] - ETA: 0s - loss: 5.9721\n",
            "Epoch 19: val_loss did not improve from 9.21787\n",
            "13/13 [==============================] - 12s 909ms/step - loss: 5.9721 - val_loss: 11.0577\n",
            "Epoch 20/30\n",
            "13/13 [==============================] - ETA: 0s - loss: 5.4543\n",
            "Epoch 20: val_loss did not improve from 9.21787\n",
            "13/13 [==============================] - 13s 1s/step - loss: 5.4543 - val_loss: 10.6107\n",
            "Epoch 21/30\n",
            "13/13 [==============================] - ETA: 0s - loss: 4.9336\n",
            "Epoch 21: val_loss did not improve from 9.21787\n",
            "13/13 [==============================] - 11s 834ms/step - loss: 4.9336 - val_loss: 10.2683\n",
            "Epoch 22/30\n",
            "13/13 [==============================] - ETA: 0s - loss: 4.4169\n",
            "Epoch 22: val_loss did not improve from 9.21787\n",
            "13/13 [==============================] - 11s 836ms/step - loss: 4.4169 - val_loss: 10.0226\n",
            "Epoch 23/30\n",
            "13/13 [==============================] - ETA: 0s - loss: 3.9066\n",
            "Epoch 23: val_loss did not improve from 9.21787\n",
            "13/13 [==============================] - 11s 895ms/step - loss: 3.9066 - val_loss: 9.8624\n",
            "Epoch 24/30\n",
            "13/13 [==============================] - ETA: 0s - loss: 3.4112\n",
            "Epoch 24: val_loss did not improve from 9.21787\n",
            "13/13 [==============================] - 12s 902ms/step - loss: 3.4112 - val_loss: 9.7895\n",
            "Epoch 25/30\n",
            "13/13 [==============================] - ETA: 0s - loss: 2.9380\n",
            "Epoch 25: val_loss did not improve from 9.21787\n",
            "13/13 [==============================] - 11s 895ms/step - loss: 2.9380 - val_loss: 9.7587\n",
            "Epoch 26/30\n",
            "13/13 [==============================] - ETA: 0s - loss: 2.4899\n",
            "Epoch 26: val_loss did not improve from 9.21787\n",
            "13/13 [==============================] - 12s 906ms/step - loss: 2.4899 - val_loss: 9.7296\n",
            "Epoch 27/30\n",
            "13/13 [==============================] - ETA: 0s - loss: 2.0743\n",
            "Epoch 27: val_loss did not improve from 9.21787\n",
            "13/13 [==============================] - 12s 896ms/step - loss: 2.0743 - val_loss: 9.7209\n",
            "Epoch 28/30\n",
            "13/13 [==============================] - ETA: 0s - loss: 1.6936\n",
            "Epoch 28: val_loss did not improve from 9.21787\n",
            "13/13 [==============================] - 10s 814ms/step - loss: 1.6936 - val_loss: 9.7553\n",
            "Epoch 29/30\n",
            "13/13 [==============================] - ETA: 0s - loss: 1.3529\n",
            "Epoch 29: val_loss did not improve from 9.21787\n",
            "13/13 [==============================] - 11s 838ms/step - loss: 1.3529 - val_loss: 9.7618\n",
            "Epoch 30/30\n",
            "13/13 [==============================] - ETA: 0s - loss: 1.0589\n",
            "Epoch 30: val_loss did not improve from 9.21787\n",
            "13/13 [==============================] - 11s 889ms/step - loss: 1.0589 - val_loss: 9.7871\n"
          ]
        }
      ]
    },
    {
      "cell_type": "code",
      "source": [
        "plt.plot(history.history['loss'])\n",
        "plt.plot(history.history['val_loss'])\n",
        "plt.legend(['train','validation'])\n",
        "plt.show()"
      ],
      "metadata": {
        "colab": {
          "base_uri": "https://localhost:8080/",
          "height": 430
        },
        "id": "HluvHnNTalh4",
        "outputId": "f4f7571a-5e23-4baa-d359-0d40b6a53e34"
      },
      "execution_count": 30,
      "outputs": [
        {
          "output_type": "display_data",
          "data": {
            "text/plain": [
              "<Figure size 640x480 with 1 Axes>"
            ],
            "image/png": "[encoded data removed]"
          },
          "metadata": {}
        }
      ]
    },
    {
      "cell_type": "code",
      "source": [
        "model = load_model('model.h1')\n",
        "preds = model.predict(trainX[10])\n",
        "preds"
      ],
      "metadata": {
        "colab": {
          "base_uri": "https://localhost:8080/"
        },
        "id": "_h7I_mfTb7I3",
        "outputId": "ad669363-d5ab-4fd1-c716-f1c8c97706c1"
      },
      "execution_count": 33,
      "outputs": [
        {
          "output_type": "stream",
          "name": "stdout",
          "text": [
            "1/1 [==============================] - 2s 2s/step\n"
          ]
        },
        {
          "output_type": "execute_result",
          "data": {
            "text/plain": [
              "array([[[9.93311478e-05, 1.00200545e-04, 9.92413989e-05, ...,\n",
              "         9.92167479e-05, 1.00626930e-04, 1.00286270e-04]]], dtype=float32)"
            ]
          },
          "metadata": {},
          "execution_count": 33
        }
      ]
    }
  ]
}